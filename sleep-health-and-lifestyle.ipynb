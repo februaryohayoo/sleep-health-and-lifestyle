{
 "cells": [
  {
   "cell_type": "code",
   "execution_count": 1,
   "id": "3e0d9aa8",
   "metadata": {
    "_cell_guid": "b1076dfc-b9ad-4769-8c92-a6c4dae69d19",
    "_uuid": "8f2839f25d086af736a60e9eeb907d3b93b6e0e5",
    "execution": {
     "iopub.execute_input": "2024-11-16T06:35:31.460429Z",
     "iopub.status.busy": "2024-11-16T06:35:31.459864Z",
     "iopub.status.idle": "2024-11-16T06:35:32.500275Z",
     "shell.execute_reply": "2024-11-16T06:35:32.499028Z"
    },
    "papermill": {
     "duration": 1.054365,
     "end_time": "2024-11-16T06:35:32.503358",
     "exception": false,
     "start_time": "2024-11-16T06:35:31.448993",
     "status": "completed"
    },
    "tags": []
   },
   "outputs": [
    {
     "data": {
      "text/html": [
       "<div>\n",
       "<style scoped>\n",
       "    .dataframe tbody tr th:only-of-type {\n",
       "        vertical-align: middle;\n",
       "    }\n",
       "\n",
       "    .dataframe tbody tr th {\n",
       "        vertical-align: top;\n",
       "    }\n",
       "\n",
       "    .dataframe thead th {\n",
       "        text-align: right;\n",
       "    }\n",
       "</style>\n",
       "<table border=\"1\" class=\"dataframe\">\n",
       "  <thead>\n",
       "    <tr style=\"text-align: right;\">\n",
       "      <th></th>\n",
       "      <th>Person ID</th>\n",
       "      <th>Gender</th>\n",
       "      <th>Age</th>\n",
       "      <th>Occupation</th>\n",
       "      <th>Sleep Duration</th>\n",
       "      <th>Quality of Sleep</th>\n",
       "      <th>Physical Activity Level</th>\n",
       "      <th>Stress Level</th>\n",
       "      <th>BMI Category</th>\n",
       "      <th>Blood Pressure</th>\n",
       "      <th>Heart Rate</th>\n",
       "      <th>Daily Steps</th>\n",
       "      <th>Sleep Disorder</th>\n",
       "    </tr>\n",
       "  </thead>\n",
       "  <tbody>\n",
       "    <tr>\n",
       "      <th>0</th>\n",
       "      <td>1</td>\n",
       "      <td>Male</td>\n",
       "      <td>27</td>\n",
       "      <td>Software Engineer</td>\n",
       "      <td>6.1</td>\n",
       "      <td>6</td>\n",
       "      <td>42</td>\n",
       "      <td>6</td>\n",
       "      <td>Overweight</td>\n",
       "      <td>126/83</td>\n",
       "      <td>77</td>\n",
       "      <td>4200</td>\n",
       "      <td>NaN</td>\n",
       "    </tr>\n",
       "    <tr>\n",
       "      <th>1</th>\n",
       "      <td>2</td>\n",
       "      <td>Male</td>\n",
       "      <td>28</td>\n",
       "      <td>Doctor</td>\n",
       "      <td>6.2</td>\n",
       "      <td>6</td>\n",
       "      <td>60</td>\n",
       "      <td>8</td>\n",
       "      <td>Normal</td>\n",
       "      <td>125/80</td>\n",
       "      <td>75</td>\n",
       "      <td>10000</td>\n",
       "      <td>NaN</td>\n",
       "    </tr>\n",
       "    <tr>\n",
       "      <th>2</th>\n",
       "      <td>3</td>\n",
       "      <td>Male</td>\n",
       "      <td>28</td>\n",
       "      <td>Doctor</td>\n",
       "      <td>6.2</td>\n",
       "      <td>6</td>\n",
       "      <td>60</td>\n",
       "      <td>8</td>\n",
       "      <td>Normal</td>\n",
       "      <td>125/80</td>\n",
       "      <td>75</td>\n",
       "      <td>10000</td>\n",
       "      <td>NaN</td>\n",
       "    </tr>\n",
       "    <tr>\n",
       "      <th>3</th>\n",
       "      <td>4</td>\n",
       "      <td>Male</td>\n",
       "      <td>28</td>\n",
       "      <td>Sales Representative</td>\n",
       "      <td>5.9</td>\n",
       "      <td>4</td>\n",
       "      <td>30</td>\n",
       "      <td>8</td>\n",
       "      <td>Obese</td>\n",
       "      <td>140/90</td>\n",
       "      <td>85</td>\n",
       "      <td>3000</td>\n",
       "      <td>Sleep Apnea</td>\n",
       "    </tr>\n",
       "    <tr>\n",
       "      <th>4</th>\n",
       "      <td>5</td>\n",
       "      <td>Male</td>\n",
       "      <td>28</td>\n",
       "      <td>Sales Representative</td>\n",
       "      <td>5.9</td>\n",
       "      <td>4</td>\n",
       "      <td>30</td>\n",
       "      <td>8</td>\n",
       "      <td>Obese</td>\n",
       "      <td>140/90</td>\n",
       "      <td>85</td>\n",
       "      <td>3000</td>\n",
       "      <td>Sleep Apnea</td>\n",
       "    </tr>\n",
       "    <tr>\n",
       "      <th>...</th>\n",
       "      <td>...</td>\n",
       "      <td>...</td>\n",
       "      <td>...</td>\n",
       "      <td>...</td>\n",
       "      <td>...</td>\n",
       "      <td>...</td>\n",
       "      <td>...</td>\n",
       "      <td>...</td>\n",
       "      <td>...</td>\n",
       "      <td>...</td>\n",
       "      <td>...</td>\n",
       "      <td>...</td>\n",
       "      <td>...</td>\n",
       "    </tr>\n",
       "    <tr>\n",
       "      <th>369</th>\n",
       "      <td>370</td>\n",
       "      <td>Female</td>\n",
       "      <td>59</td>\n",
       "      <td>Nurse</td>\n",
       "      <td>8.1</td>\n",
       "      <td>9</td>\n",
       "      <td>75</td>\n",
       "      <td>3</td>\n",
       "      <td>Overweight</td>\n",
       "      <td>140/95</td>\n",
       "      <td>68</td>\n",
       "      <td>7000</td>\n",
       "      <td>Sleep Apnea</td>\n",
       "    </tr>\n",
       "    <tr>\n",
       "      <th>370</th>\n",
       "      <td>371</td>\n",
       "      <td>Female</td>\n",
       "      <td>59</td>\n",
       "      <td>Nurse</td>\n",
       "      <td>8.0</td>\n",
       "      <td>9</td>\n",
       "      <td>75</td>\n",
       "      <td>3</td>\n",
       "      <td>Overweight</td>\n",
       "      <td>140/95</td>\n",
       "      <td>68</td>\n",
       "      <td>7000</td>\n",
       "      <td>Sleep Apnea</td>\n",
       "    </tr>\n",
       "    <tr>\n",
       "      <th>371</th>\n",
       "      <td>372</td>\n",
       "      <td>Female</td>\n",
       "      <td>59</td>\n",
       "      <td>Nurse</td>\n",
       "      <td>8.1</td>\n",
       "      <td>9</td>\n",
       "      <td>75</td>\n",
       "      <td>3</td>\n",
       "      <td>Overweight</td>\n",
       "      <td>140/95</td>\n",
       "      <td>68</td>\n",
       "      <td>7000</td>\n",
       "      <td>Sleep Apnea</td>\n",
       "    </tr>\n",
       "    <tr>\n",
       "      <th>372</th>\n",
       "      <td>373</td>\n",
       "      <td>Female</td>\n",
       "      <td>59</td>\n",
       "      <td>Nurse</td>\n",
       "      <td>8.1</td>\n",
       "      <td>9</td>\n",
       "      <td>75</td>\n",
       "      <td>3</td>\n",
       "      <td>Overweight</td>\n",
       "      <td>140/95</td>\n",
       "      <td>68</td>\n",
       "      <td>7000</td>\n",
       "      <td>Sleep Apnea</td>\n",
       "    </tr>\n",
       "    <tr>\n",
       "      <th>373</th>\n",
       "      <td>374</td>\n",
       "      <td>Female</td>\n",
       "      <td>59</td>\n",
       "      <td>Nurse</td>\n",
       "      <td>8.1</td>\n",
       "      <td>9</td>\n",
       "      <td>75</td>\n",
       "      <td>3</td>\n",
       "      <td>Overweight</td>\n",
       "      <td>140/95</td>\n",
       "      <td>68</td>\n",
       "      <td>7000</td>\n",
       "      <td>Sleep Apnea</td>\n",
       "    </tr>\n",
       "  </tbody>\n",
       "</table>\n",
       "<p>374 rows × 13 columns</p>\n",
       "</div>"
      ],
      "text/plain": [
       "     Person ID  Gender  Age            Occupation  Sleep Duration  \\\n",
       "0            1    Male   27     Software Engineer             6.1   \n",
       "1            2    Male   28                Doctor             6.2   \n",
       "2            3    Male   28                Doctor             6.2   \n",
       "3            4    Male   28  Sales Representative             5.9   \n",
       "4            5    Male   28  Sales Representative             5.9   \n",
       "..         ...     ...  ...                   ...             ...   \n",
       "369        370  Female   59                 Nurse             8.1   \n",
       "370        371  Female   59                 Nurse             8.0   \n",
       "371        372  Female   59                 Nurse             8.1   \n",
       "372        373  Female   59                 Nurse             8.1   \n",
       "373        374  Female   59                 Nurse             8.1   \n",
       "\n",
       "     Quality of Sleep  Physical Activity Level  Stress Level BMI Category  \\\n",
       "0                   6                       42             6   Overweight   \n",
       "1                   6                       60             8       Normal   \n",
       "2                   6                       60             8       Normal   \n",
       "3                   4                       30             8        Obese   \n",
       "4                   4                       30             8        Obese   \n",
       "..                ...                      ...           ...          ...   \n",
       "369                 9                       75             3   Overweight   \n",
       "370                 9                       75             3   Overweight   \n",
       "371                 9                       75             3   Overweight   \n",
       "372                 9                       75             3   Overweight   \n",
       "373                 9                       75             3   Overweight   \n",
       "\n",
       "    Blood Pressure  Heart Rate  Daily Steps Sleep Disorder  \n",
       "0           126/83          77         4200            NaN  \n",
       "1           125/80          75        10000            NaN  \n",
       "2           125/80          75        10000            NaN  \n",
       "3           140/90          85         3000    Sleep Apnea  \n",
       "4           140/90          85         3000    Sleep Apnea  \n",
       "..             ...         ...          ...            ...  \n",
       "369         140/95          68         7000    Sleep Apnea  \n",
       "370         140/95          68         7000    Sleep Apnea  \n",
       "371         140/95          68         7000    Sleep Apnea  \n",
       "372         140/95          68         7000    Sleep Apnea  \n",
       "373         140/95          68         7000    Sleep Apnea  \n",
       "\n",
       "[374 rows x 13 columns]"
      ]
     },
     "execution_count": 1,
     "metadata": {},
     "output_type": "execute_result"
    }
   ],
   "source": [
    "import numpy as np\n",
    "import pandas as pd \n",
    "import matplotlib.pyplot as plt\n",
    "import warnings\n",
    "warnings.filterwarnings(\"ignore\")\n",
    "\n",
    "df = pd.read_csv('/kaggle/input/sleep-health-and-lifestyle-dataset/Sleep_health_and_lifestyle_dataset.csv')\n",
    "df"
   ]
  },
  {
   "cell_type": "code",
   "execution_count": 2,
   "id": "9924cd9b",
   "metadata": {
    "execution": {
     "iopub.execute_input": "2024-11-16T06:35:32.523402Z",
     "iopub.status.busy": "2024-11-16T06:35:32.522319Z",
     "iopub.status.idle": "2024-11-16T06:35:32.529803Z",
     "shell.execute_reply": "2024-11-16T06:35:32.528206Z"
    },
    "papermill": {
     "duration": 0.020056,
     "end_time": "2024-11-16T06:35:32.532498",
     "exception": false,
     "start_time": "2024-11-16T06:35:32.512442",
     "status": "completed"
    },
    "tags": []
   },
   "outputs": [],
   "source": [
    "df.columns = ['person_id', 'gender', 'age', 'occupation', 'sleep_duration',\n",
    "       'quality_of_sleep', 'physical_activity_level', 'stress_level',\n",
    "       'bmi_category', 'blood_pressure', 'heart_rate', 'daily_steps',\n",
    "       'sleep_disorder']"
   ]
  },
  {
   "cell_type": "code",
   "execution_count": 3,
   "id": "392b7c84",
   "metadata": {
    "execution": {
     "iopub.execute_input": "2024-11-16T06:35:32.551578Z",
     "iopub.status.busy": "2024-11-16T06:35:32.551090Z",
     "iopub.status.idle": "2024-11-16T06:35:32.578243Z",
     "shell.execute_reply": "2024-11-16T06:35:32.576896Z"
    },
    "papermill": {
     "duration": 0.040035,
     "end_time": "2024-11-16T06:35:32.581112",
     "exception": false,
     "start_time": "2024-11-16T06:35:32.541077",
     "status": "completed"
    },
    "tags": []
   },
   "outputs": [
    {
     "name": "stdout",
     "output_type": "stream",
     "text": [
      "<class 'pandas.core.frame.DataFrame'>\n",
      "RangeIndex: 374 entries, 0 to 373\n",
      "Data columns (total 13 columns):\n",
      " #   Column                   Non-Null Count  Dtype  \n",
      "---  ------                   --------------  -----  \n",
      " 0   person_id                374 non-null    int64  \n",
      " 1   gender                   374 non-null    object \n",
      " 2   age                      374 non-null    int64  \n",
      " 3   occupation               374 non-null    object \n",
      " 4   sleep_duration           374 non-null    float64\n",
      " 5   quality_of_sleep         374 non-null    int64  \n",
      " 6   physical_activity_level  374 non-null    int64  \n",
      " 7   stress_level             374 non-null    int64  \n",
      " 8   bmi_category             374 non-null    object \n",
      " 9   blood_pressure           374 non-null    object \n",
      " 10  heart_rate               374 non-null    int64  \n",
      " 11  daily_steps              374 non-null    int64  \n",
      " 12  sleep_disorder           155 non-null    object \n",
      "dtypes: float64(1), int64(7), object(5)\n",
      "memory usage: 38.1+ KB\n"
     ]
    }
   ],
   "source": [
    "df.info()"
   ]
  },
  {
   "cell_type": "code",
   "execution_count": 4,
   "id": "279d9686",
   "metadata": {
    "execution": {
     "iopub.execute_input": "2024-11-16T06:35:32.600695Z",
     "iopub.status.busy": "2024-11-16T06:35:32.600188Z",
     "iopub.status.idle": "2024-11-16T06:35:32.611857Z",
     "shell.execute_reply": "2024-11-16T06:35:32.610534Z"
    },
    "papermill": {
     "duration": 0.0248,
     "end_time": "2024-11-16T06:35:32.614754",
     "exception": false,
     "start_time": "2024-11-16T06:35:32.589954",
     "status": "completed"
    },
    "tags": []
   },
   "outputs": [
    {
     "data": {
      "text/plain": [
       "0"
      ]
     },
     "execution_count": 4,
     "metadata": {},
     "output_type": "execute_result"
    }
   ],
   "source": [
    "df.duplicated().sum()"
   ]
  },
  {
   "cell_type": "code",
   "execution_count": 5,
   "id": "1469cb63",
   "metadata": {
    "execution": {
     "iopub.execute_input": "2024-11-16T06:35:32.634366Z",
     "iopub.status.busy": "2024-11-16T06:35:32.633946Z",
     "iopub.status.idle": "2024-11-16T06:35:32.640832Z",
     "shell.execute_reply": "2024-11-16T06:35:32.639660Z"
    },
    "papermill": {
     "duration": 0.019546,
     "end_time": "2024-11-16T06:35:32.643304",
     "exception": false,
     "start_time": "2024-11-16T06:35:32.623758",
     "status": "completed"
    },
    "tags": []
   },
   "outputs": [],
   "source": [
    "df['sleep_disorder'] = df['sleep_disorder'].fillna('None')"
   ]
  },
  {
   "cell_type": "code",
   "execution_count": 6,
   "id": "4f9280fa",
   "metadata": {
    "execution": {
     "iopub.execute_input": "2024-11-16T06:35:32.664107Z",
     "iopub.status.busy": "2024-11-16T06:35:32.663685Z",
     "iopub.status.idle": "2024-11-16T06:35:32.672375Z",
     "shell.execute_reply": "2024-11-16T06:35:32.671171Z"
    },
    "papermill": {
     "duration": 0.022592,
     "end_time": "2024-11-16T06:35:32.674915",
     "exception": false,
     "start_time": "2024-11-16T06:35:32.652323",
     "status": "completed"
    },
    "tags": []
   },
   "outputs": [],
   "source": [
    "df = df[['person_id', 'gender', 'age', 'physical_activity_level', 'bmi_category', 'sleep_disorder']]"
   ]
  },
  {
   "cell_type": "code",
   "execution_count": 7,
   "id": "81b47ed1",
   "metadata": {
    "execution": {
     "iopub.execute_input": "2024-11-16T06:35:32.696642Z",
     "iopub.status.busy": "2024-11-16T06:35:32.695394Z",
     "iopub.status.idle": "2024-11-16T06:35:32.707339Z",
     "shell.execute_reply": "2024-11-16T06:35:32.706156Z"
    },
    "papermill": {
     "duration": 0.026033,
     "end_time": "2024-11-16T06:35:32.710116",
     "exception": false,
     "start_time": "2024-11-16T06:35:32.684083",
     "status": "completed"
    },
    "tags": []
   },
   "outputs": [
    {
     "name": "stdout",
     "output_type": "stream",
     "text": [
      "<class 'pandas.core.frame.DataFrame'>\n",
      "RangeIndex: 374 entries, 0 to 373\n",
      "Data columns (total 6 columns):\n",
      " #   Column                   Non-Null Count  Dtype \n",
      "---  ------                   --------------  ----- \n",
      " 0   person_id                374 non-null    int64 \n",
      " 1   gender                   374 non-null    object\n",
      " 2   age                      374 non-null    int64 \n",
      " 3   physical_activity_level  374 non-null    int64 \n",
      " 4   bmi_category             374 non-null    object\n",
      " 5   sleep_disorder           374 non-null    object\n",
      "dtypes: int64(3), object(3)\n",
      "memory usage: 17.7+ KB\n"
     ]
    }
   ],
   "source": [
    "df.info()"
   ]
  },
  {
   "cell_type": "code",
   "execution_count": 8,
   "id": "f07103e2",
   "metadata": {
    "execution": {
     "iopub.execute_input": "2024-11-16T06:35:32.730117Z",
     "iopub.status.busy": "2024-11-16T06:35:32.729637Z",
     "iopub.status.idle": "2024-11-16T06:35:32.740046Z",
     "shell.execute_reply": "2024-11-16T06:35:32.738876Z"
    },
    "papermill": {
     "duration": 0.024047,
     "end_time": "2024-11-16T06:35:32.743184",
     "exception": false,
     "start_time": "2024-11-16T06:35:32.719137",
     "status": "completed"
    },
    "tags": []
   },
   "outputs": [
    {
     "data": {
      "text/plain": [
       "bmi_category\n",
       "Normal           195\n",
       "Overweight       148\n",
       "Normal Weight     21\n",
       "Obese             10\n",
       "Name: count, dtype: int64"
      ]
     },
     "execution_count": 8,
     "metadata": {},
     "output_type": "execute_result"
    }
   ],
   "source": [
    "df['bmi_category'].value_counts()"
   ]
  },
  {
   "cell_type": "code",
   "execution_count": 9,
   "id": "118ee89f",
   "metadata": {
    "execution": {
     "iopub.execute_input": "2024-11-16T06:35:32.763680Z",
     "iopub.status.busy": "2024-11-16T06:35:32.763207Z",
     "iopub.status.idle": "2024-11-16T06:35:32.770809Z",
     "shell.execute_reply": "2024-11-16T06:35:32.769485Z"
    },
    "papermill": {
     "duration": 0.02094,
     "end_time": "2024-11-16T06:35:32.773377",
     "exception": false,
     "start_time": "2024-11-16T06:35:32.752437",
     "status": "completed"
    },
    "tags": []
   },
   "outputs": [],
   "source": [
    "df.loc[df['bmi_category'] == 'Normal', 'bmi_category'] = 'Normal Weight'"
   ]
  },
  {
   "cell_type": "code",
   "execution_count": 10,
   "id": "1c478807",
   "metadata": {
    "execution": {
     "iopub.execute_input": "2024-11-16T06:35:32.793222Z",
     "iopub.status.busy": "2024-11-16T06:35:32.792762Z",
     "iopub.status.idle": "2024-11-16T06:35:32.802640Z",
     "shell.execute_reply": "2024-11-16T06:35:32.801485Z"
    },
    "papermill": {
     "duration": 0.022752,
     "end_time": "2024-11-16T06:35:32.805159",
     "exception": false,
     "start_time": "2024-11-16T06:35:32.782407",
     "status": "completed"
    },
    "tags": []
   },
   "outputs": [
    {
     "data": {
      "text/plain": [
       "bmi_category\n",
       "Normal Weight    216\n",
       "Overweight       148\n",
       "Obese             10\n",
       "Name: count, dtype: int64"
      ]
     },
     "execution_count": 10,
     "metadata": {},
     "output_type": "execute_result"
    }
   ],
   "source": [
    "df['bmi_category'].value_counts()"
   ]
  },
  {
   "cell_type": "code",
   "execution_count": 11,
   "id": "32703a42",
   "metadata": {
    "execution": {
     "iopub.execute_input": "2024-11-16T06:35:32.826606Z",
     "iopub.status.busy": "2024-11-16T06:35:32.826151Z",
     "iopub.status.idle": "2024-11-16T06:35:32.835969Z",
     "shell.execute_reply": "2024-11-16T06:35:32.834728Z"
    },
    "papermill": {
     "duration": 0.023348,
     "end_time": "2024-11-16T06:35:32.838598",
     "exception": false,
     "start_time": "2024-11-16T06:35:32.815250",
     "status": "completed"
    },
    "tags": []
   },
   "outputs": [
    {
     "data": {
      "text/plain": [
       "gender\n",
       "Male      189\n",
       "Female    185\n",
       "Name: count, dtype: int64"
      ]
     },
     "execution_count": 11,
     "metadata": {},
     "output_type": "execute_result"
    }
   ],
   "source": [
    "df['gender'].value_counts()"
   ]
  },
  {
   "cell_type": "code",
   "execution_count": 12,
   "id": "3498f352",
   "metadata": {
    "execution": {
     "iopub.execute_input": "2024-11-16T06:35:32.860178Z",
     "iopub.status.busy": "2024-11-16T06:35:32.859711Z",
     "iopub.status.idle": "2024-11-16T06:35:32.883097Z",
     "shell.execute_reply": "2024-11-16T06:35:32.881756Z"
    },
    "papermill": {
     "duration": 0.037905,
     "end_time": "2024-11-16T06:35:32.886068",
     "exception": false,
     "start_time": "2024-11-16T06:35:32.848163",
     "status": "completed"
    },
    "tags": []
   },
   "outputs": [
    {
     "data": {
      "text/html": [
       "<div>\n",
       "<style scoped>\n",
       "    .dataframe tbody tr th:only-of-type {\n",
       "        vertical-align: middle;\n",
       "    }\n",
       "\n",
       "    .dataframe tbody tr th {\n",
       "        vertical-align: top;\n",
       "    }\n",
       "\n",
       "    .dataframe thead th {\n",
       "        text-align: right;\n",
       "    }\n",
       "</style>\n",
       "<table border=\"1\" class=\"dataframe\">\n",
       "  <thead>\n",
       "    <tr style=\"text-align: right;\">\n",
       "      <th></th>\n",
       "      <th></th>\n",
       "      <th></th>\n",
       "      <th>count</th>\n",
       "    </tr>\n",
       "    <tr>\n",
       "      <th>gender</th>\n",
       "      <th>sleep_disorder</th>\n",
       "      <th>bmi_category</th>\n",
       "      <th></th>\n",
       "    </tr>\n",
       "  </thead>\n",
       "  <tbody>\n",
       "    <tr>\n",
       "      <th rowspan=\"7\" valign=\"top\">Female</th>\n",
       "      <th rowspan=\"2\" valign=\"top\">Insomnia</th>\n",
       "      <th>Overweight</th>\n",
       "      <td>32</td>\n",
       "    </tr>\n",
       "    <tr>\n",
       "      <th>Normal Weight</th>\n",
       "      <td>4</td>\n",
       "    </tr>\n",
       "    <tr>\n",
       "      <th rowspan=\"2\" valign=\"top\">None</th>\n",
       "      <th>Normal Weight</th>\n",
       "      <td>71</td>\n",
       "    </tr>\n",
       "    <tr>\n",
       "      <th>Overweight</th>\n",
       "      <td>11</td>\n",
       "    </tr>\n",
       "    <tr>\n",
       "      <th rowspan=\"3\" valign=\"top\">Sleep Apnea</th>\n",
       "      <th>Overweight</th>\n",
       "      <td>63</td>\n",
       "    </tr>\n",
       "    <tr>\n",
       "      <th>Normal Weight</th>\n",
       "      <td>3</td>\n",
       "    </tr>\n",
       "    <tr>\n",
       "      <th>Obese</th>\n",
       "      <td>1</td>\n",
       "    </tr>\n",
       "    <tr>\n",
       "      <th rowspan=\"8\" valign=\"top\">Male</th>\n",
       "      <th rowspan=\"3\" valign=\"top\">Insomnia</th>\n",
       "      <th>Overweight</th>\n",
       "      <td>32</td>\n",
       "    </tr>\n",
       "    <tr>\n",
       "      <th>Normal Weight</th>\n",
       "      <td>5</td>\n",
       "    </tr>\n",
       "    <tr>\n",
       "      <th>Obese</th>\n",
       "      <td>4</td>\n",
       "    </tr>\n",
       "    <tr>\n",
       "      <th rowspan=\"2\" valign=\"top\">None</th>\n",
       "      <th>Normal Weight</th>\n",
       "      <td>129</td>\n",
       "    </tr>\n",
       "    <tr>\n",
       "      <th>Overweight</th>\n",
       "      <td>8</td>\n",
       "    </tr>\n",
       "    <tr>\n",
       "      <th rowspan=\"3\" valign=\"top\">Sleep Apnea</th>\n",
       "      <th>Obese</th>\n",
       "      <td>5</td>\n",
       "    </tr>\n",
       "    <tr>\n",
       "      <th>Normal Weight</th>\n",
       "      <td>4</td>\n",
       "    </tr>\n",
       "    <tr>\n",
       "      <th>Overweight</th>\n",
       "      <td>2</td>\n",
       "    </tr>\n",
       "  </tbody>\n",
       "</table>\n",
       "</div>"
      ],
      "text/plain": [
       "                                     count\n",
       "gender sleep_disorder bmi_category        \n",
       "Female Insomnia       Overweight        32\n",
       "                      Normal Weight      4\n",
       "       None           Normal Weight     71\n",
       "                      Overweight        11\n",
       "       Sleep Apnea    Overweight        63\n",
       "                      Normal Weight      3\n",
       "                      Obese              1\n",
       "Male   Insomnia       Overweight        32\n",
       "                      Normal Weight      5\n",
       "                      Obese              4\n",
       "       None           Normal Weight    129\n",
       "                      Overweight         8\n",
       "       Sleep Apnea    Obese              5\n",
       "                      Normal Weight      4\n",
       "                      Overweight         2"
      ]
     },
     "execution_count": 12,
     "metadata": {},
     "output_type": "execute_result"
    }
   ],
   "source": [
    "# df.groupby('gender', observed=True)[['sleep_disorder', 'bmi_category']].value_counts().to_frame()\n",
    "df.groupby(['gender', 'sleep_disorder'], observed=True)['bmi_category'].value_counts().to_frame()"
   ]
  },
  {
   "cell_type": "code",
   "execution_count": 13,
   "id": "23dd9eee",
   "metadata": {
    "execution": {
     "iopub.execute_input": "2024-11-16T06:35:32.907847Z",
     "iopub.status.busy": "2024-11-16T06:35:32.907303Z",
     "iopub.status.idle": "2024-11-16T06:35:33.282472Z",
     "shell.execute_reply": "2024-11-16T06:35:33.281210Z"
    },
    "papermill": {
     "duration": 0.389237,
     "end_time": "2024-11-16T06:35:33.285050",
     "exception": false,
     "start_time": "2024-11-16T06:35:32.895813",
     "status": "completed"
    },
    "tags": []
   },
   "outputs": [
    {
     "data": {
      "image/png": "[encoded data removed]",
      "text/plain": [
       "<Figure size 800x550 with 1 Axes>"
      ]
     },
     "metadata": {},
     "output_type": "display_data"
    }
   ],
   "source": [
    "plt.style.use('seaborn-v0_8')\n",
    "\n",
    "width = 0.25\n",
    "\n",
    "fillter1 = df.loc[(df['gender'] == 'Female') & (df['sleep_disorder'] == 'Insomnia')]\n",
    "x = fillter1.groupby('bmi_category')['bmi_category'].value_counts()\n",
    "x = x.reindex(['Normal Weight', 'Overweight', 'Obese']).fillna(0)\n",
    "# x position in x axis\n",
    "x_pos = np.arange(len(x))\n",
    "plt.bar(x_pos - width, x.values, width=width, color='#9b3333', label='Insomnia')\n",
    "\n",
    "\n",
    "fillter2 = df.loc[(df['gender'] == 'Female') & (df['sleep_disorder'] == 'Sleep Apnea')]\n",
    "y = fillter2.groupby('bmi_category')['bmi_category'].value_counts()\n",
    "y = y.reindex(['Normal Weight', 'Overweight', 'Obese']).fillna(0)\n",
    "y_pos = np.arange(len(y)) \n",
    "plt.bar(y_pos, y.values, width=width, color='#386868', label='Sleep Apnea')\n",
    "\n",
    "\n",
    "fillter3 = df.loc[(df['gender'] == 'Female') & (df['sleep_disorder'] == 'None')]\n",
    "z = fillter3.groupby('bmi_category')['bmi_category'].value_counts()\n",
    "z = z.reindex(['Normal Weight', 'Overweight', 'Obese']).fillna(0)\n",
    "z_pos = np.arange(len(z)) \n",
    "plt.bar(z_pos + width, z.values, width=width, color='#ef863d', label='None')\n",
    "\n",
    "plt.title('BMI and Sleep Disorder in Females')\n",
    "plt.xlabel('BMI Category')\n",
    "plt.ylabel('Count')\n",
    "\n",
    "plt.xticks(ticks=y_pos, labels=y.index)\n",
    "\n",
    "plt.legend()\n",
    "\n",
    "plt.tight_layout()\n",
    "plt.show()"
   ]
  },
  {
   "cell_type": "code",
   "execution_count": 14,
   "id": "a03a899d",
   "metadata": {
    "execution": {
     "iopub.execute_input": "2024-11-16T06:35:33.308050Z",
     "iopub.status.busy": "2024-11-16T06:35:33.307214Z",
     "iopub.status.idle": "2024-11-16T06:35:33.631230Z",
     "shell.execute_reply": "2024-11-16T06:35:33.629829Z"
    },
    "papermill": {
     "duration": 0.338521,
     "end_time": "2024-11-16T06:35:33.633986",
     "exception": false,
     "start_time": "2024-11-16T06:35:33.295465",
     "status": "completed"
    },
    "tags": []
   },
   "outputs": [
    {
     "data": {
      "image/png": "[encoded data removed]",
      "text/plain": [
       "<Figure size 800x550 with 1 Axes>"
      ]
     },
     "metadata": {},
     "output_type": "display_data"
    }
   ],
   "source": [
    "plt.style.use('seaborn-v0_8')\n",
    "\n",
    "width = 0.25\n",
    "\n",
    "fillter1 = df.loc[(df['gender'] == 'Male') & (df['sleep_disorder'] == 'Insomnia')]\n",
    "x = fillter1.groupby('bmi_category')['bmi_category'].value_counts()\n",
    "x = x.reindex(['Normal Weight', 'Overweight', 'Obese']).fillna(0)\n",
    "# x position in x axis\n",
    "x_pos = np.arange(len(x))\n",
    "plt.bar(x_pos - width, x.values, width=width, color='#de3535', label='Insomnia')\n",
    "\n",
    "\n",
    "fillter2 = df.loc[(df['gender'] == 'Male') & (df['sleep_disorder'] == 'Sleep Apnea')]\n",
    "y = fillter2.groupby('bmi_category')['bmi_category'].value_counts()\n",
    "y = y.reindex(['Normal Weight', 'Overweight', 'Obese']).fillna(0)\n",
    "y_pos = np.arange(len(y)) \n",
    "plt.bar(y_pos, y.values, width=width, color='#8ebab5', label='Sleep Apnea')\n",
    "\n",
    "\n",
    "fillter3 = df.loc[(df['gender'] == 'Male') & (df['sleep_disorder'] == 'None')]\n",
    "z = fillter3.groupby('bmi_category')['bmi_category'].value_counts()\n",
    "z = z.reindex(['Normal Weight', 'Overweight', 'Obese']).fillna(0)\n",
    "z_pos = np.arange(len(z)) \n",
    "plt.bar(z_pos + width, z.values, width=width, color='#f49030', label='None')\n",
    "\n",
    "plt.title('BMI and Sleep Disorder in Males')\n",
    "plt.xlabel('BMI Category')\n",
    "plt.ylabel('Count')\n",
    "\n",
    "plt.xticks(ticks=y_pos, labels=y.index)\n",
    "\n",
    "plt.legend()\n",
    "\n",
    "plt.tight_layout()\n",
    "plt.show()"
   ]
  },
  {
   "cell_type": "code",
   "execution_count": 15,
   "id": "1864940b",
   "metadata": {
    "execution": {
     "iopub.execute_input": "2024-11-16T06:35:33.658107Z",
     "iopub.status.busy": "2024-11-16T06:35:33.657392Z",
     "iopub.status.idle": "2024-11-16T06:35:33.667971Z",
     "shell.execute_reply": "2024-11-16T06:35:33.666739Z"
    },
    "papermill": {
     "duration": 0.025722,
     "end_time": "2024-11-16T06:35:33.670673",
     "exception": false,
     "start_time": "2024-11-16T06:35:33.644951",
     "status": "completed"
    },
    "tags": []
   },
   "outputs": [],
   "source": [
    "df['age_ranges'] = pd.cut(df['age'], bins=4, precision=1, labels=['age 27-35', 'age 36-43', 'age 44-51', 'age 52-59'])"
   ]
  },
  {
   "cell_type": "code",
   "execution_count": 16,
   "id": "d171584e",
   "metadata": {
    "execution": {
     "iopub.execute_input": "2024-11-16T06:35:33.697192Z",
     "iopub.status.busy": "2024-11-16T06:35:33.696739Z",
     "iopub.status.idle": "2024-11-16T06:35:33.719110Z",
     "shell.execute_reply": "2024-11-16T06:35:33.717942Z"
    },
    "papermill": {
     "duration": 0.039504,
     "end_time": "2024-11-16T06:35:33.721792",
     "exception": false,
     "start_time": "2024-11-16T06:35:33.682288",
     "status": "completed"
    },
    "tags": []
   },
   "outputs": [
    {
     "data": {
      "text/html": [
       "<div>\n",
       "<style scoped>\n",
       "    .dataframe tbody tr th:only-of-type {\n",
       "        vertical-align: middle;\n",
       "    }\n",
       "\n",
       "    .dataframe tbody tr th {\n",
       "        vertical-align: top;\n",
       "    }\n",
       "\n",
       "    .dataframe thead th {\n",
       "        text-align: right;\n",
       "    }\n",
       "</style>\n",
       "<table border=\"1\" class=\"dataframe\">\n",
       "  <thead>\n",
       "    <tr style=\"text-align: right;\">\n",
       "      <th></th>\n",
       "      <th>max</th>\n",
       "      <th>mean</th>\n",
       "      <th>min</th>\n",
       "    </tr>\n",
       "    <tr>\n",
       "      <th>gender</th>\n",
       "      <th></th>\n",
       "      <th></th>\n",
       "      <th></th>\n",
       "    </tr>\n",
       "  </thead>\n",
       "  <tbody>\n",
       "    <tr>\n",
       "      <th>Female</th>\n",
       "      <td>59</td>\n",
       "      <td>49.378641</td>\n",
       "      <td>29</td>\n",
       "    </tr>\n",
       "    <tr>\n",
       "      <th>Male</th>\n",
       "      <td>49</td>\n",
       "      <td>41.192308</td>\n",
       "      <td>28</td>\n",
       "    </tr>\n",
       "  </tbody>\n",
       "</table>\n",
       "</div>"
      ],
      "text/plain": [
       "        max       mean  min\n",
       "gender                     \n",
       "Female   59  49.378641   29\n",
       "Male     49  41.192308   28"
      ]
     },
     "execution_count": 16,
     "metadata": {},
     "output_type": "execute_result"
    }
   ],
   "source": [
    "# fillter4 = df.loc[(df['sleep_disorder'] == 'Insomnia') | (df['sleep_disorder'] == 'Sleep Apnea')]\n",
    "fillter4 = df.loc[df['sleep_disorder'] != 'None']\n",
    "fillter4.groupby('gender')['age'].agg(['max','mean','min'])"
   ]
  },
  {
   "cell_type": "code",
   "execution_count": 17,
   "id": "42a76f1e",
   "metadata": {
    "execution": {
     "iopub.execute_input": "2024-11-16T06:35:33.746122Z",
     "iopub.status.busy": "2024-11-16T06:35:33.745664Z",
     "iopub.status.idle": "2024-11-16T06:35:33.771758Z",
     "shell.execute_reply": "2024-11-16T06:35:33.770512Z"
    },
    "papermill": {
     "duration": 0.04143,
     "end_time": "2024-11-16T06:35:33.774439",
     "exception": false,
     "start_time": "2024-11-16T06:35:33.733009",
     "status": "completed"
    },
    "tags": []
   },
   "outputs": [
    {
     "data": {
      "text/html": [
       "<div>\n",
       "<style scoped>\n",
       "    .dataframe tbody tr th:only-of-type {\n",
       "        vertical-align: middle;\n",
       "    }\n",
       "\n",
       "    .dataframe tbody tr th {\n",
       "        vertical-align: top;\n",
       "    }\n",
       "\n",
       "    .dataframe thead th {\n",
       "        text-align: right;\n",
       "    }\n",
       "</style>\n",
       "<table border=\"1\" class=\"dataframe\">\n",
       "  <thead>\n",
       "    <tr style=\"text-align: right;\">\n",
       "      <th></th>\n",
       "      <th></th>\n",
       "      <th>count</th>\n",
       "    </tr>\n",
       "    <tr>\n",
       "      <th>gender</th>\n",
       "      <th>age_ranges</th>\n",
       "      <th></th>\n",
       "    </tr>\n",
       "  </thead>\n",
       "  <tbody>\n",
       "    <tr>\n",
       "      <th rowspan=\"4\" valign=\"top\">Female</th>\n",
       "      <th>age 44-51</th>\n",
       "      <td>52</td>\n",
       "    </tr>\n",
       "    <tr>\n",
       "      <th>age 52-59</th>\n",
       "      <td>37</td>\n",
       "    </tr>\n",
       "    <tr>\n",
       "      <th>age 36-43</th>\n",
       "      <td>8</td>\n",
       "    </tr>\n",
       "    <tr>\n",
       "      <th>age 27-35</th>\n",
       "      <td>6</td>\n",
       "    </tr>\n",
       "    <tr>\n",
       "      <th rowspan=\"4\" valign=\"top\">Male</th>\n",
       "      <th>age 36-43</th>\n",
       "      <td>23</td>\n",
       "    </tr>\n",
       "    <tr>\n",
       "      <th>age 44-51</th>\n",
       "      <td>21</td>\n",
       "    </tr>\n",
       "    <tr>\n",
       "      <th>age 27-35</th>\n",
       "      <td>8</td>\n",
       "    </tr>\n",
       "    <tr>\n",
       "      <th>age 52-59</th>\n",
       "      <td>0</td>\n",
       "    </tr>\n",
       "  </tbody>\n",
       "</table>\n",
       "</div>"
      ],
      "text/plain": [
       "                   count\n",
       "gender age_ranges       \n",
       "Female age 44-51      52\n",
       "       age 52-59      37\n",
       "       age 36-43       8\n",
       "       age 27-35       6\n",
       "Male   age 36-43      23\n",
       "       age 44-51      21\n",
       "       age 27-35       8\n",
       "       age 52-59       0"
      ]
     },
     "execution_count": 17,
     "metadata": {},
     "output_type": "execute_result"
    }
   ],
   "source": [
    "fillter4.groupby('gender')['age_ranges'].value_counts().to_frame()"
   ]
  },
  {
   "cell_type": "code",
   "execution_count": 18,
   "id": "616af659",
   "metadata": {
    "execution": {
     "iopub.execute_input": "2024-11-16T06:35:33.799176Z",
     "iopub.status.busy": "2024-11-16T06:35:33.798736Z",
     "iopub.status.idle": "2024-11-16T06:35:34.203178Z",
     "shell.execute_reply": "2024-11-16T06:35:34.201853Z"
    },
    "papermill": {
     "duration": 0.420197,
     "end_time": "2024-11-16T06:35:34.206116",
     "exception": false,
     "start_time": "2024-11-16T06:35:33.785919",
     "status": "completed"
    },
    "tags": []
   },
   "outputs": [
    {
     "data": {
      "image/png": "[encoded data removed]",
      "text/plain": [
       "<Figure size 800x550 with 1 Axes>"
      ]
     },
     "metadata": {},
     "output_type": "display_data"
    }
   ],
   "source": [
    "plt.style.use('seaborn-v0_8')\n",
    "\n",
    "width = 0.30\n",
    "\n",
    "fillter5_1 = fillter4[fillter4['gender']=='Male']\n",
    "x = fillter5_1.groupby('age_ranges')['age_ranges'].size()\n",
    "x = x.reindex(['age 27-35', 'age 36-43', 'age 44-51', 'age 52-59']).fillna(0)\n",
    "# x position in x axis\n",
    "x_pos = np.arange(len(x))\n",
    "plt.bar(x_pos - width/2, x.values, width=width, color='#de3535', label='Male')\n",
    "\n",
    "fillter5_2 = fillter4[fillter4['gender']=='Female']\n",
    "y = fillter5_2.groupby('age_ranges')['age_ranges'].size()\n",
    "y = y.reindex(['age 27-35', 'age 36-43', 'age 44-51', 'age 52-59']).fillna(0)\n",
    "# y position in y axis\n",
    "y_pos = np.arange(len(y))\n",
    "plt.bar(y_pos + width/2, y.values, width=width, color='#8ebab5', label='Female')\n",
    "\n",
    "\n",
    "plt.title('The Relationship Between Age Ranges and Sleep Disorder')\n",
    "plt.xlabel('Age Ranges')\n",
    "plt.ylabel('Count')\n",
    "\n",
    "plt.xticks(ticks=x_pos, labels=x.index)\n",
    "\n",
    "plt.legend()\n",
    "\n",
    "plt.tight_layout()\n",
    "plt.show()"
   ]
  },
  {
   "cell_type": "code",
   "execution_count": 19,
   "id": "41e9667d",
   "metadata": {
    "execution": {
     "iopub.execute_input": "2024-11-16T06:35:34.233046Z",
     "iopub.status.busy": "2024-11-16T06:35:34.232598Z",
     "iopub.status.idle": "2024-11-16T06:35:34.250335Z",
     "shell.execute_reply": "2024-11-16T06:35:34.248999Z"
    },
    "papermill": {
     "duration": 0.034376,
     "end_time": "2024-11-16T06:35:34.253369",
     "exception": false,
     "start_time": "2024-11-16T06:35:34.218993",
     "status": "completed"
    },
    "tags": []
   },
   "outputs": [
    {
     "data": {
      "text/html": [
       "<div>\n",
       "<style scoped>\n",
       "    .dataframe tbody tr th:only-of-type {\n",
       "        vertical-align: middle;\n",
       "    }\n",
       "\n",
       "    .dataframe tbody tr th {\n",
       "        vertical-align: top;\n",
       "    }\n",
       "\n",
       "    .dataframe thead th {\n",
       "        text-align: right;\n",
       "    }\n",
       "</style>\n",
       "<table border=\"1\" class=\"dataframe\">\n",
       "  <thead>\n",
       "    <tr style=\"text-align: right;\">\n",
       "      <th></th>\n",
       "      <th>max</th>\n",
       "      <th>mean</th>\n",
       "      <th>min</th>\n",
       "    </tr>\n",
       "    <tr>\n",
       "      <th>gender</th>\n",
       "      <th></th>\n",
       "      <th></th>\n",
       "      <th></th>\n",
       "    </tr>\n",
       "  </thead>\n",
       "  <tbody>\n",
       "    <tr>\n",
       "      <th>Female</th>\n",
       "      <td>59</td>\n",
       "      <td>44.926829</td>\n",
       "      <td>31</td>\n",
       "    </tr>\n",
       "    <tr>\n",
       "      <th>Male</th>\n",
       "      <td>44</td>\n",
       "      <td>35.510949</td>\n",
       "      <td>27</td>\n",
       "    </tr>\n",
       "  </tbody>\n",
       "</table>\n",
       "</div>"
      ],
      "text/plain": [
       "        max       mean  min\n",
       "gender                     \n",
       "Female   59  44.926829   31\n",
       "Male     44  35.510949   27"
      ]
     },
     "execution_count": 19,
     "metadata": {},
     "output_type": "execute_result"
    }
   ],
   "source": [
    "fillter6 = df.loc[df['sleep_disorder'] == 'None']\n",
    "fillter6.groupby('gender')['age'].agg(['max','mean','min'])"
   ]
  },
  {
   "cell_type": "code",
   "execution_count": 20,
   "id": "7818531e",
   "metadata": {
    "execution": {
     "iopub.execute_input": "2024-11-16T06:35:34.280352Z",
     "iopub.status.busy": "2024-11-16T06:35:34.279903Z",
     "iopub.status.idle": "2024-11-16T06:35:34.303910Z",
     "shell.execute_reply": "2024-11-16T06:35:34.302629Z"
    },
    "papermill": {
     "duration": 0.041263,
     "end_time": "2024-11-16T06:35:34.306943",
     "exception": false,
     "start_time": "2024-11-16T06:35:34.265680",
     "status": "completed"
    },
    "tags": []
   },
   "outputs": [
    {
     "data": {
      "text/html": [
       "<div>\n",
       "<style scoped>\n",
       "    .dataframe tbody tr th:only-of-type {\n",
       "        vertical-align: middle;\n",
       "    }\n",
       "\n",
       "    .dataframe tbody tr th {\n",
       "        vertical-align: top;\n",
       "    }\n",
       "\n",
       "    .dataframe thead th {\n",
       "        text-align: right;\n",
       "    }\n",
       "</style>\n",
       "<table border=\"1\" class=\"dataframe\">\n",
       "  <thead>\n",
       "    <tr style=\"text-align: right;\">\n",
       "      <th></th>\n",
       "      <th></th>\n",
       "      <th>count</th>\n",
       "    </tr>\n",
       "    <tr>\n",
       "      <th>gender</th>\n",
       "      <th>age_ranges</th>\n",
       "      <th></th>\n",
       "    </tr>\n",
       "  </thead>\n",
       "  <tbody>\n",
       "    <tr>\n",
       "      <th rowspan=\"4\" valign=\"top\">Female</th>\n",
       "      <th>age 36-43</th>\n",
       "      <td>36</td>\n",
       "    </tr>\n",
       "    <tr>\n",
       "      <th>age 52-59</th>\n",
       "      <td>31</td>\n",
       "    </tr>\n",
       "    <tr>\n",
       "      <th>age 44-51</th>\n",
       "      <td>11</td>\n",
       "    </tr>\n",
       "    <tr>\n",
       "      <th>age 27-35</th>\n",
       "      <td>4</td>\n",
       "    </tr>\n",
       "    <tr>\n",
       "      <th rowspan=\"4\" valign=\"top\">Male</th>\n",
       "      <th>age 27-35</th>\n",
       "      <td>76</td>\n",
       "    </tr>\n",
       "    <tr>\n",
       "      <th>age 36-43</th>\n",
       "      <td>59</td>\n",
       "    </tr>\n",
       "    <tr>\n",
       "      <th>age 44-51</th>\n",
       "      <td>2</td>\n",
       "    </tr>\n",
       "    <tr>\n",
       "      <th>age 52-59</th>\n",
       "      <td>0</td>\n",
       "    </tr>\n",
       "  </tbody>\n",
       "</table>\n",
       "</div>"
      ],
      "text/plain": [
       "                   count\n",
       "gender age_ranges       \n",
       "Female age 36-43      36\n",
       "       age 52-59      31\n",
       "       age 44-51      11\n",
       "       age 27-35       4\n",
       "Male   age 27-35      76\n",
       "       age 36-43      59\n",
       "       age 44-51       2\n",
       "       age 52-59       0"
      ]
     },
     "execution_count": 20,
     "metadata": {},
     "output_type": "execute_result"
    }
   ],
   "source": [
    "fillter6.groupby('gender')['age_ranges'].value_counts().to_frame()"
   ]
  },
  {
   "cell_type": "code",
   "execution_count": 21,
   "id": "5ca735bb",
   "metadata": {
    "execution": {
     "iopub.execute_input": "2024-11-16T06:35:34.335876Z",
     "iopub.status.busy": "2024-11-16T06:35:34.335262Z",
     "iopub.status.idle": "2024-11-16T06:35:34.806671Z",
     "shell.execute_reply": "2024-11-16T06:35:34.805213Z"
    },
    "papermill": {
     "duration": 0.492473,
     "end_time": "2024-11-16T06:35:34.812533",
     "exception": false,
     "start_time": "2024-11-16T06:35:34.320060",
     "status": "completed"
    },
    "tags": []
   },
   "outputs": [
    {
     "data": {
      "image/png": "[encoded data removed]",
      "text/plain": [
       "<Figure size 800x550 with 1 Axes>"
      ]
     },
     "metadata": {},
     "output_type": "display_data"
    }
   ],
   "source": [
    "plt.style.use('seaborn-v0_8')\n",
    "\n",
    "width = 0.30\n",
    "\n",
    "fillter6_1 = fillter6[fillter6['gender']=='Male']\n",
    "x = fillter6_1.groupby('age_ranges')['age_ranges'].size()\n",
    "x = x.reindex(['age 27-35', 'age 36-43', 'age 44-51', 'age 52-59']).fillna(0)\n",
    "# x position in x axis\n",
    "x_pos = np.arange(len(x))\n",
    "plt.bar(x_pos - width/2, x.values, width=width, color='#ef863d', label='Male')\n",
    "\n",
    "fillter6_2 = fillter6[fillter6['gender']=='Female']\n",
    "y = fillter6_2.groupby('age_ranges')['age_ranges'].size()\n",
    "y = y.reindex(['age 27-35', 'age 36-43', 'age 44-51', 'age 52-59']).fillna(0)\n",
    "# y position in y axis\n",
    "y_pos = np.arange(len(y))\n",
    "plt.bar(y_pos + width/2, y.values, width=width, color='#79c6c6', label='Female')\n",
    "\n",
    "\n",
    "plt.title('The Relationship Between Age Ranges and No Sleep Disorder')\n",
    "plt.xlabel('Age Ranges')\n",
    "plt.ylabel('Count')\n",
    "\n",
    "plt.xticks(ticks=x_pos, labels=x.index)\n",
    "\n",
    "plt.legend()\n",
    "\n",
    "plt.tight_layout()\n",
    "plt.show()"
   ]
  },
  {
   "cell_type": "markdown",
   "id": "7b8053cb",
   "metadata": {
    "papermill": {
     "duration": 0.019937,
     "end_time": "2024-11-16T06:35:34.851917",
     "exception": false,
     "start_time": "2024-11-16T06:35:34.831980",
     "status": "completed"
    },
    "tags": []
   },
   "source": [
    "# Summary\n",
    "1. A survey was conducted on 185 females, with the highest number being those with No Sleep Disorder (82), followed by those with Sleep Apnea (67),and Insomnia (36), respectively.\n",
    "2. A survey was conducted on 189 males, with the highest number being those with No Sleep Disorder (137), followed by those with Insomnia (41),and Sleep Apnea (11), respectively.\n",
    "3. The majority of females with Insomnia and Sleep Apnea are in the Overweight group.\n",
    "4. The majority of males with Insomnia are in the Overweight group.\n",
    "5. The majority of females with a Sleep Disorder are in the age range of 44-51 years, with an average age of 49.38 years.\n",
    "6. The majority of males with a Sleep Disorder are in the age range of 36-43 years, with an average age of 41.19 years.\n",
    "7. The majority of females with No Sleep Disorder are in the age range of 36-43 years, with an average age of 44.93 years.\n",
    "8. The majority of males with No Sleep Disorder are in the age range of 27-35 years, with an average age of 35.51 years."
   ]
  }
 ],
 "metadata": {
  "kaggle": {
   "accelerator": "none",
   "dataSources": [
    {
     "datasetId": 3321433,
     "sourceId": 6491929,
     "sourceType": "datasetVersion"
    }
   ],
   "dockerImageVersionId": 30786,
   "isGpuEnabled": false,
   "isInternetEnabled": false,
   "language": "python",
   "sourceType": "notebook"
  },
  "kernelspec": {
   "display_name": "Python 3",
   "language": "python",
   "name": "python3"
  },
  "language_info": {
   "codemirror_mode": {
    "name": "ipython",
    "version": 3
   },
   "file_extension": ".py",
   "mimetype": "text/x-python",
   "name": "python",
   "nbconvert_exporter": "python",
   "pygments_lexer": "ipython3",
   "version": "3.10.14"
  },
  "papermill": {
   "default_parameters": {},
   "duration": 7.586351,
   "end_time": "2024-11-16T06:35:35.494969",
   "environment_variables": {},
   "exception": null,
   "input_path": "__notebook__.ipynb",
   "output_path": "__notebook__.ipynb",
   "parameters": {},
   "start_time": "2024-11-16T06:35:27.908618",
   "version": "2.6.0"
  }
 },
 "nbformat": 4,
 "nbformat_minor": 5
}
